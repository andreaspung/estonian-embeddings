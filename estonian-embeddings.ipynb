{
 "cells": [
  {
   "cell_type": "markdown",
   "metadata": {},
   "source": [
    "# Estonian word embeddings\n",
    "\n",
    "## Necessary imports"
   ]
  },
  {
   "cell_type": "code",
   "execution_count": 3,
   "metadata": {},
   "outputs": [],
   "source": [
    "from estnltk import Text # Estonian lemmatization\n",
    "from gensim.models import Word2Vec # main model\n",
    "from gensim.models import KeyedVectors # for loading pre-trained models\n",
    "from tqdm.notebook import tqdm # progress bar\n",
    "from pathlib import Path # operating system independent file paths"
   ]
  },
  {
   "cell_type": "markdown",
   "metadata": {},
   "source": [
    "## Load in the corpora"
   ]
  },
  {
   "cell_type": "code",
   "execution_count": 4,
   "metadata": {},
   "outputs": [
    {
     "name": "stdout",
     "output_type": "stream",
     "text": [
      "corpora\\etnc19_balanced_corpus.prevert\n",
      "corpora\\etnc19_doaj.prevert\n",
      "corpora\\etnc19_reference_corpus.prevert\n",
      "corpora\\etnc19_web_2013.prevert\n",
      "corpora\\etnc19_web_2017.prevert\n",
      "corpora\\etnc19_web_2019.prevert\n",
      "corpora\\etnc19_wikipedia_2017.prevert\n",
      "corpora\\etnc19_wikipedia_2019.prevert\n"
     ]
    }
   ],
   "source": [
    "corpora_path = Path('./corpora')\n",
    "\n",
    "corpora_names = []\n",
    "\n",
    "for filename in corpora_path.glob('*.prevert'):\n",
    "    print(filename)\n",
    "    corpora_names.append(filename)"
   ]
  },
  {
   "cell_type": "code",
   "execution_count": 9,
   "metadata": {},
   "outputs": [
    {
     "name": "stdout",
     "output_type": "stream",
     "text": [
      "corpora\\etnc19_balanced_corpus.prevert\n"
     ]
    },
    {
     "name": "stderr",
     "output_type": "stream",
     "text": [
      "  0%|                                                                      | 378/2233718 [00:00<00:17, 124740.12line/s]"
     ]
    },
    {
     "name": "stdout",
     "output_type": "stream",
     "text": [
      "{'id': '2184', 'src': 'Balanced Corpus', 'filename': 'aja_EPL_2002_02_12.tasak.ma', 'texttype_nc': 'periodicals', 'newspaperNumber': 'Eesti Päevaleht 12.02.2002', 'heading': 'Majandus', 'title': 'Mustamäe ühiselamute üks omanik on USAs registreeritud firma', 'texttype': 'Journals', 'texttype_src': 'source data'}\n",
      "\n",
      "{'id': '2185', 'src': 'Balanced Corpus', 'filename': 'aja_EPL_2002_02_12.tasak.ma', 'texttype_nc': 'periodicals', 'newspaperNumber': 'Eesti Päevaleht 12.02.2002', 'heading': 'Majandus', 'title': 'Kinnisvarahaldur BREM tasus Tallinna Veele vana võla', 'texttype': 'Journals', 'texttype_src': 'source data'}\n",
      "\n",
      "{'id': '2186', 'src': 'Balanced Corpus', 'filename': 'aja_EPL_2002_02_12.tasak.ma', 'texttype_nc': 'periodicals', 'newspaperNumber': 'Eesti Päevaleht 12.02.2002', 'heading': 'Majandus', 'title': 'British Petroleumi kasum vähenes 46 protsenti', 'texttype': 'Journals', 'texttype_src': 'source data'}\n",
      "\n",
      "{'id': '2187', 'src': 'Balanced Corpus', 'filename': 'aja_EPL_2002_02_12.tasak.ma', 'texttype_nc': 'periodicals', 'newspaperNumber': 'Eesti Päevaleht 12.02.2002', 'heading': 'Majandus', 'title': 'Rotermanni kvartal saab lõpuks ehitusreeglid', 'texttype': 'Journals', 'texttype_src': 'source data'}\n",
      "\n",
      "{'id': '2188', 'src': 'Balanced Corpus', 'filename': 'aja_EPL_2002_02_12.tasak.ma', 'texttype_nc': 'periodicals', 'newspaperNumber': 'Eesti Päevaleht 12.02.2002', 'heading': 'Majandus', 'title': 'Tallinn tahab ühiselamuelanikele maksta toetust', 'texttype': 'Journals', 'texttype_src': 'source data'}\n",
      "\n",
      "{'id': '2189', 'src': 'Balanced Corpus', 'filename': 'aja_EPL_2002_02_12.tasak.ma', 'texttype_nc': 'periodicals', 'newspaperNumber': 'Eesti Päevaleht 12.02.2002', 'heading': 'Majandus', 'title': 'Lukoil teenis üle 1,9 miljardi dollari kasumit', 'texttype': 'Journals', 'texttype_src': 'source data'}\n",
      "\n",
      "{'id': '2190', 'src': 'Balanced Corpus', 'filename': 'aja_EPL_2002_02_12.tasak.ma', 'texttype_nc': 'periodicals', 'newspaperNumber': 'Eesti Päevaleht 12.02.2002', 'heading': 'Majandus', 'title': 'Venemaa teraviljaeksport kasvas ligi kolmekordseks', 'texttype': 'Journals', 'texttype_src': 'source data'}\n",
      "\n",
      "{'id': '2191', 'src': 'Balanced Corpus', 'filename': 'aja_EPL_2002_02_12.tasak.ma', 'texttype_nc': 'periodicals', 'newspaperNumber': 'Eesti Päevaleht 12.02.2002', 'heading': 'Majandus', 'title': 'Tolli laekumised olid jaanuaris aastaga kasvanud 17,6 protsenti', 'texttype': 'Journals', 'texttype_src': 'source data'}\n",
      "\n",
      "{'id': '2192', 'src': 'Balanced Corpus', 'filename': 'aja_EPL_2002_02_12.tasak.ma', 'texttype_nc': 'periodicals', 'newspaperNumber': 'Eesti Päevaleht 12.02.2002', 'heading': 'Majandus', 'title': 'Linn soovib kanda kasutamata investeeringute raha tänavusse eelarveaastasse', 'texttype': 'Journals', 'texttype_src': 'source data'}\n",
      "\n",
      "{'id': '2193', 'src': 'Balanced Corpus', 'filename': 'aja_EPL_2002_02_12.tasak.ma', 'texttype_nc': 'periodicals', 'newspaperNumber': 'Eesti Päevaleht 12.02.2002', 'heading': 'Majandus', 'title': 'Tiimari avas Kuressaares kaupluse', 'texttype': 'Journals', 'texttype_src': 'source data'}\n",
      "\n",
      "{'id': '2194', 'src': 'Balanced Corpus', 'filename': 'aja_EPL_2002_02_12.tasak.ma', 'texttype_nc': 'periodicals', 'newspaperNumber': 'Eesti Päevaleht 12.02.2002', 'heading': 'Majandus', 'title': 'Regio osanikud kaotasid 1,5 aastaga 55 miljonit krooni', 'texttype': 'Journals', 'texttype_src': 'source data'}\n",
      "\n"
     ]
    },
    {
     "name": "stderr",
     "output_type": "stream",
     "text": [
      "\n"
     ]
    }
   ],
   "source": [
    "# https://github.com/estnltk/estnltk/blob/version_1.6/tutorials/corpus_processing/importing_text_objects_from_corpora.ipynb\n",
    "\n",
    "from estnltk.corpus_processing.parse_enc import parse_enc_file_iterator\n",
    "\n",
    "# input file\n",
    "input_file = corpora_names[0]\n",
    "print(input_file)\n",
    "\n",
    "i = 0\n",
    "\n",
    "# iterate over corpus and extract Text objects one-by-one\n",
    "for text_obj in parse_enc_file_iterator( input_file, line_progressbar='ascii' ):\n",
    "    # TODO: do something with the Text object\n",
    "    print(text_obj.meta)\n",
    "    print()\n",
    "    \n",
    "    i += 1\n",
    "    \n",
    "    if i > 10:\n",
    "        break"
   ]
  },
  {
   "cell_type": "code",
   "execution_count": 40,
   "metadata": {},
   "outputs": [],
   "source": [
    "import re\n",
    "sentences = []\n",
    "with open(corpora_names[0], encoding=\"utf-8\") as f:\n",
    "    for line in f:\n",
    "        if not line.startswith(\"<\"):\n",
    "            #print(line)\n",
    "            sentences.append(line.strip())"
   ]
  },
  {
   "cell_type": "code",
   "execution_count": 45,
   "metadata": {},
   "outputs": [],
   "source": [
    "sentence = sentences[0]"
   ]
  },
  {
   "cell_type": "code",
   "execution_count": 50,
   "metadata": {},
   "outputs": [
    {
     "data": {
      "text/html": [
       "<table border=\"1\" class=\"dataframe\">\n",
       "  <thead>\n",
       "    <tr style=\"text-align: right;\">\n",
       "      <th>text</th>\n",
       "    </tr>\n",
       "  </thead>\n",
       "  <tbody>\n",
       "    <tr>\n",
       "      <td><div align = \"left\">Mustamäe ühiselamutel on hooneregistri andmetel kokku neli omanikku, sealhulgas ka USA Oklahoma osariigis registreeritud Cremo Capital L.L.C. Ameerika firmast kui võimalikust omanikust rääkis Mustamäe ühiselamute initsiatiivgrupi liige Jevgenia Ruzmanova.</div></td>\n",
       "    </tr>\n",
       "  </tbody>\n",
       "</table>\n",
       "<table border=\"1\" class=\"dataframe\">\n",
       "  <thead>\n",
       "    <tr style=\"text-align: right;\">\n",
       "      <th>layer name</th>\n",
       "      <th>attributes</th>\n",
       "      <th>parent</th>\n",
       "      <th>enveloping</th>\n",
       "      <th>ambiguous</th>\n",
       "      <th>span count</th>\n",
       "    </tr>\n",
       "  </thead>\n",
       "  <tbody>\n",
       "    <tr>\n",
       "      <td>sentences</td>\n",
       "      <td></td>\n",
       "      <td>None</td>\n",
       "      <td>words</td>\n",
       "      <td>False</td>\n",
       "      <td>1</td>\n",
       "    </tr>\n",
       "    <tr>\n",
       "      <td>tokens</td>\n",
       "      <td></td>\n",
       "      <td>None</td>\n",
       "      <td>None</td>\n",
       "      <td>False</td>\n",
       "      <td>36</td>\n",
       "    </tr>\n",
       "    <tr>\n",
       "      <td>compound_tokens</td>\n",
       "      <td>type, normalized</td>\n",
       "      <td>None</td>\n",
       "      <td>tokens</td>\n",
       "      <td>False</td>\n",
       "      <td>1</td>\n",
       "    </tr>\n",
       "    <tr>\n",
       "      <td>words</td>\n",
       "      <td>normalized_form</td>\n",
       "      <td>None</td>\n",
       "      <td>None</td>\n",
       "      <td>True</td>\n",
       "      <td>32</td>\n",
       "    </tr>\n",
       "    <tr>\n",
       "      <td>morph_analysis</td>\n",
       "      <td>normalized_text, lemma, root, root_tokens, ending, clitic, form, partofspeech</td>\n",
       "      <td>words</td>\n",
       "      <td>None</td>\n",
       "      <td>True</td>\n",
       "      <td>32</td>\n",
       "    </tr>\n",
       "  </tbody>\n",
       "</table>"
      ],
      "text/plain": [
       "Text(text='Mustamäe ühiselamutel on hooneregistri andmetel kokku neli omanikku, sealhulgas ka USA Oklahoma osariigis registreeritud Cremo Capital L.L.C. Ameerika firmast kui võimalikust omanikust rääkis Mustamäe ühiselamute initsiatiivgrupi liige Jevgenia Ruzmanova.')"
      ]
     },
     "execution_count": 50,
     "metadata": {},
     "output_type": "execute_result"
    }
   ],
   "source": [
    "sentence = Text(sentence)\n",
    "sentence.tag_layer([\"morph_analysis\"])"
   ]
  },
  {
   "cell_type": "code",
   "execution_count": 54,
   "metadata": {},
   "outputs": [
    {
     "data": {
      "text/plain": [
       "['Mustamäe',\n",
       " 'ühiselamutel',\n",
       " 'on',\n",
       " 'hooneregistri',\n",
       " 'andmetel',\n",
       " 'kokku',\n",
       " 'neli',\n",
       " 'omanikku',\n",
       " ',',\n",
       " 'sealhulgas',\n",
       " 'ka',\n",
       " 'USA',\n",
       " 'Oklahoma',\n",
       " 'osariigis',\n",
       " 'registreeritud',\n",
       " 'Cremo',\n",
       " 'Capital',\n",
       " 'L',\n",
       " '.',\n",
       " 'L.C. Ameerika',\n",
       " 'firmast',\n",
       " 'kui',\n",
       " 'võimalikust',\n",
       " 'omanikust',\n",
       " 'rääkis',\n",
       " 'Mustamäe',\n",
       " 'ühiselamute',\n",
       " 'initsiatiivgrupi',\n",
       " 'liige',\n",
       " 'Jevgenia',\n",
       " 'Ruzmanova',\n",
       " '.']"
      ]
     },
     "execution_count": 54,
     "metadata": {},
     "output_type": "execute_result"
    }
   ],
   "source": [
    "[word for word in sentence.words.text]"
   ]
  },
  {
   "cell_type": "code",
   "execution_count": 69,
   "metadata": {},
   "outputs": [],
   "source": [
    "from tqdm import tqdm\n",
    "words = []\n",
    "for sentence in (sentences[:6000]):\n",
    "    sentence = Text(sentence)\n",
    "    sentence.tag_layer([\"morph_analysis\"])\n",
    "    words.append([word for word in sentence.words.text])"
   ]
  },
  {
   "cell_type": "code",
   "execution_count": 70,
   "metadata": {},
   "outputs": [
    {
     "name": "stdout",
     "output_type": "stream",
     "text": [
      "INFO:word2vec.py:1399: collecting all words and their counts\n",
      "INFO:word2vec.py:1384: PROGRESS: at sentence #0, processed 0 words, keeping 0 word types\n",
      "INFO:word2vec.py:1407: collected 28863 word types from a corpus of 99733 raw words and 6000 sentences\n",
      "INFO:word2vec.py:1458: Loading a fresh vocabulary\n",
      "INFO:word2vec.py:1482: effective_min_count=5 retains 2688 unique words (9% of original 28863, drops 26175)\n",
      "INFO:word2vec.py:1488: effective_min_count=5 leaves 62885 word corpus (63% of original 99733, drops 36848)\n",
      "INFO:word2vec.py:1547: deleting the raw counts dictionary of 28863 items\n",
      "INFO:word2vec.py:1550: sample=0.001 downsamples 33 most-common words\n",
      "INFO:word2vec.py:1553: downsampling leaves estimated 44779 word corpus (71.2% of prior 62885)\n",
      "INFO:base_any2vec.py:1008: estimated required memory for 2688 words and 100 dimensions: 3494400 bytes\n",
      "INFO:word2vec.py:1699: resetting layer weights\n",
      "INFO:base_any2vec.py:1196: training model with 3 workers on 2688 vocabulary and 100 features, using sg=0 hs=0 sample=0.001 negative=5 window=5\n",
      "INFO:base_any2vec.py:348: worker thread finished; awaiting finish of 2 more threads\n",
      "INFO:base_any2vec.py:348: worker thread finished; awaiting finish of 1 more threads\n",
      "INFO:base_any2vec.py:348: worker thread finished; awaiting finish of 0 more threads\n",
      "INFO:base_any2vec.py:1332: EPOCH - 1 : training on 99733 raw words (44700 effective words) took 0.0s, 1303694 effective words/s\n",
      "INFO:base_any2vec.py:348: worker thread finished; awaiting finish of 2 more threads\n",
      "INFO:base_any2vec.py:348: worker thread finished; awaiting finish of 1 more threads\n",
      "INFO:base_any2vec.py:348: worker thread finished; awaiting finish of 0 more threads\n",
      "INFO:base_any2vec.py:1332: EPOCH - 2 : training on 99733 raw words (44743 effective words) took 0.0s, 1318390 effective words/s\n",
      "INFO:base_any2vec.py:348: worker thread finished; awaiting finish of 2 more threads\n",
      "INFO:base_any2vec.py:348: worker thread finished; awaiting finish of 1 more threads\n",
      "INFO:base_any2vec.py:348: worker thread finished; awaiting finish of 0 more threads\n",
      "INFO:base_any2vec.py:1332: EPOCH - 3 : training on 99733 raw words (44696 effective words) took 0.0s, 1214479 effective words/s\n",
      "INFO:base_any2vec.py:348: worker thread finished; awaiting finish of 2 more threads\n",
      "INFO:base_any2vec.py:348: worker thread finished; awaiting finish of 1 more threads\n",
      "INFO:base_any2vec.py:348: worker thread finished; awaiting finish of 0 more threads\n",
      "INFO:base_any2vec.py:1332: EPOCH - 4 : training on 99733 raw words (44763 effective words) took 0.0s, 1256982 effective words/s\n",
      "INFO:base_any2vec.py:348: worker thread finished; awaiting finish of 2 more threads\n",
      "INFO:base_any2vec.py:348: worker thread finished; awaiting finish of 1 more threads\n",
      "INFO:base_any2vec.py:348: worker thread finished; awaiting finish of 0 more threads\n",
      "INFO:base_any2vec.py:1332: EPOCH - 5 : training on 99733 raw words (44779 effective words) took 0.0s, 1280996 effective words/s\n",
      "INFO:base_any2vec.py:1368: training on a 498665 raw words (223681 effective words) took 0.2s, 1106321 effective words/s\n"
     ]
    }
   ],
   "source": [
    "model = Word2Vec(words)"
   ]
  },
  {
   "cell_type": "code",
   "execution_count": 80,
   "metadata": {},
   "outputs": [
    {
     "data": {
      "text/plain": [
       "[('oli', 0.9999585747718811),\n",
       " ('Tallinna', 0.9999529123306274),\n",
       " ('kus', 0.9999476671218872),\n",
       " ('poolt', 0.9999476075172424),\n",
       " ('ning', 0.999946653842926),\n",
       " ('vaid', 0.9999442100524902),\n",
       " ('vastu', 0.9999439120292664),\n",
       " ('välja', 0.9999438524246216),\n",
       " ('üle', 0.9999434947967529),\n",
       " ('pärast', 0.9999428391456604)]"
      ]
     },
     "execution_count": 80,
     "metadata": {},
     "output_type": "execute_result"
    }
   ],
   "source": [
    "model.wv.most_similar(\"Eesti\")"
   ]
  }
 ],
 "metadata": {
  "kernelspec": {
   "display_name": "Python 3",
   "language": "python",
   "name": "python3"
  },
  "language_info": {
   "codemirror_mode": {
    "name": "ipython",
    "version": 3
   },
   "file_extension": ".py",
   "mimetype": "text/x-python",
   "name": "python",
   "nbconvert_exporter": "python",
   "pygments_lexer": "ipython3",
   "version": "3.7.9"
  }
 },
 "nbformat": 4,
 "nbformat_minor": 4
}
