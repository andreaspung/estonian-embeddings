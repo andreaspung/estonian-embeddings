{
 "cells": [
  {
   "cell_type": "code",
   "execution_count": 1,
   "metadata": {},
   "outputs": [],
   "source": [
    "import csv, matplotlib.pyplot as plt"
   ]
  },
  {
   "cell_type": "markdown",
   "metadata": {},
   "source": [
    "# Loeme standardi sisse"
   ]
  },
  {
   "cell_type": "code",
   "execution_count": 2,
   "metadata": {},
   "outputs": [],
   "source": [
    "standard = dict()\n",
    "\n",
    "#Vaadake, et standard on samas kaustas või muutke koodi!!\n",
    "with open(\"syno-gold.csv\",\"r\", encoding = \"UTF-8\") as f:\n",
    "    for rida in f:\n",
    "        sõna, sarnane_sõna = rida.split(\"\\t\")\n",
    "        if sõna not in standard:\n",
    "            standard[sõna] = []\n",
    "        standard[sõna].append(sarnane_sõna.strip())  \n",
    "        \n",
    "        "
   ]
  },
  {
   "cell_type": "code",
   "execution_count": 3,
   "metadata": {},
   "outputs": [
    {
     "name": "stdout",
     "output_type": "stream",
     "text": [
      "Standardis on 38818 sõna.\n"
     ]
    },
    {
     "data": {
      "text/plain": [
       "['nõrk', 'kaitsetu', 'hädine', 'hädaline', 'väeti']"
      ]
     },
     "execution_count": 3,
     "metadata": {},
     "output_type": "execute_result"
    }
   ],
   "source": [
    "print(\"Standardis on\",len(standard),\"sõna.\")\n",
    "standard[\"abitu\"][:5]"
   ]
  },
  {
   "cell_type": "markdown",
   "metadata": {},
   "source": [
    "# Loeme mudeli sisse"
   ]
  },
  {
   "cell_type": "code",
   "execution_count": 4,
   "metadata": {},
   "outputs": [],
   "source": [
    "fail = \"model_2.csv\" #Muuta vastavalt vajadusele!!\n",
    "\n",
    "mudel = dict()\n",
    "with open(fail, \"r\", encoding = \"UTF-8\") as f:\n",
    "    for sõna,sarnane_sõna,skoor in csv.reader(f,quotechar='\"', delimiter=',', quoting=csv.QUOTE_ALL):\n",
    "        if sõna not in mudel:\n",
    "            mudel[sõna] = []\n",
    "        mudel[sõna].append(sarnane_sõna)  \n",
    "    "
   ]
  },
  {
   "cell_type": "code",
   "execution_count": 5,
   "metadata": {},
   "outputs": [
    {
     "name": "stdout",
     "output_type": "stream",
     "text": [
      "Mudelis on 200000 sõna.\n"
     ]
    },
    {
     "data": {
      "text/plain": [
       "['jõuetu', 'kaitsetu', 'saamatu', 'mittemõistetu', 'pampersilaps']"
      ]
     },
     "execution_count": 5,
     "metadata": {},
     "output_type": "execute_result"
    }
   ],
   "source": [
    "print(\"Mudelis on\",len(mudel),\"sõna.\")\n",
    "mudel[\"abitu\"][:5]"
   ]
  },
  {
   "cell_type": "markdown",
   "metadata": {},
   "source": [
    "# Võrdlemine\n",
    "\n",
    "Võrdleme standardiga järgmise loogika järgi.\n",
    "* Vaatame läbi standardi kõik sõnad.\n",
    "* Kui sõna sisaldub mudelis, siis uurime, kas standardi kõige sarnasem sõna sisaldub mudelis sarnastes sõnades.\n",
    "* Saame mingi hinnangu, kui tihti see juhtub.\n",
    "* Seejärel teeme sama asja standardi teisele kõige sarnasemale sõnale jne"
   ]
  },
  {
   "cell_type": "code",
   "execution_count": 6,
   "metadata": {},
   "outputs": [
    {
     "name": "stdout",
     "output_type": "stream",
     "text": [
      "Standardi sõnadest 21642 esineb mudelis.\n"
     ]
    }
   ],
   "source": [
    "print(\"Standardi sõnadest\",sum([sõna in mudel for sõna in standard]),\"esineb mudelis.\")        "
   ]
  },
  {
   "cell_type": "markdown",
   "metadata": {},
   "source": [
    "Nagu näha, me saame ainult teha võrdlust nende 21 642 sõna abil."
   ]
  },
  {
   "cell_type": "code",
   "execution_count": 7,
   "metadata": {},
   "outputs": [],
   "source": [
    "#Parameetrid\n",
    "# mudel, mida standardiga võrdleme\n",
    "# standard, millega võrdleme\n",
    "# n - mitu sarnast sõna me standardist võtame\n",
    "# piir - kui paljude sarnaste sõnade seast me mudelis uurime\n",
    "#        näiteks, meid ehk ei huvita, kui standardi järgi kõige sarnasem sõna\n",
    "#        on mudeli arvates sarnasuselt viiekümnes\n",
    "#        vaikeväärtus : 100 (ehk praktiliselt mitte piirav)\n",
    "# tagastaProtsent - saame valida, kas tahame tagastusväärtusena protsenti või ennikut\n",
    "\n",
    "def võrdle(mudel,standard, n=1, piir = 100, tagastaProtsent = True):\n",
    "    \n",
    "    success = 0\n",
    "    counter = 0\n",
    "    \n",
    "    for sõna in standard:\n",
    "        \n",
    "        if sõna in mudel:\n",
    "            i = 0\n",
    "            while i < n and i<len(standard[sõna]):\n",
    "                counter += 1\n",
    "                if standard[sõna][i] in mudel[sõna][:piir]:\n",
    "                    success += 1                \n",
    "                i+= 1\n",
    "    \n",
    "    if tagastaProtsent:\n",
    "        return success/counter\n",
    "    \n",
    "    return success,counter"
   ]
  },
  {
   "cell_type": "code",
   "execution_count": 8,
   "metadata": {},
   "outputs": [],
   "source": [
    "#Visualiseerib mudeli\n",
    "#Parameetrid\n",
    "# standard, millega võrdleme\n",
    "# mudel, mida võrdleme standardiga\n",
    "# N - kui palju erinevaid sõnade arve me proovime\n",
    "#     vaikeväärtus : 10\n",
    "\n",
    "def joonistaMudel(standard, mudel, N=10):\n",
    "    võrdlused = []\n",
    "    for n in range(1,N+1):\n",
    "        p = võrdle(mudel, standard, n)\n",
    "        võrdlused.append(p)\n",
    "        \n",
    "    plt.bar([i+1 for i in range(N)], height = võrdlused, width = .5)\n",
    "    plt.xticks([i+1 for i in range(N)])\n",
    "    plt.ylabel(\"Edukalt leitud sõnu / otsitud sõnu\")\n",
    "    plt.xlabel(\"Mitu sarnast sõna standardist võeti\")\n",
    "    plt.show()\n",
    "    "
   ]
  },
  {
   "cell_type": "code",
   "execution_count": 9,
   "metadata": {
    "scrolled": true
   },
   "outputs": [
    {
     "data": {
      "image/png": "[encoded data removed]",
      "text/plain": [
       "<Figure size 432x288 with 1 Axes>"
      ]
     },
     "metadata": {
      "needs_background": "light"
     },
     "output_type": "display_data"
    }
   ],
   "source": [
    "joonistaMudel(standard, mudel)\n",
    "    "
   ]
  },
  {
   "cell_type": "code",
   "execution_count": 10,
   "metadata": {},
   "outputs": [],
   "source": [
    "def loeMudel(fail):\n",
    "    mudel = dict()\n",
    "    with open(fail, \"r\", encoding = \"UTF-8\") as f:\n",
    "        for sõna,sarnane_sõna,skoor in csv.reader(f,quotechar='\"', delimiter=',', quoting=csv.QUOTE_ALL):\n",
    "            if sõna not in mudel:\n",
    "                mudel[sõna] = []\n",
    "            mudel[sõna].append(sarnane_sõna) \n",
    "    return mudel\n"
   ]
  },
  {
   "cell_type": "code",
   "execution_count": 11,
   "metadata": {},
   "outputs": [],
   "source": [
    "cbow = loeMudel(\"W2V_100d_5epoch_CBOW_200000topN.csv\")\n",
    "sg   = loeMudel(\"W2V_1000d_20epoch_SG_200000topN.csv\")"
   ]
  },
  {
   "cell_type": "code",
   "execution_count": 20,
   "metadata": {},
   "outputs": [],
   "source": [
    "def võrdleMudeleid(mudel1,mudel2, standard, N = 10):\n",
    "    \n",
    "    võrdlused1 = []\n",
    "    võrdlused2 = []\n",
    "    for n in range(1,N+1):\n",
    "        p = võrdle(mudel1, standard, n)\n",
    "        võrdlused1.append(p)\n",
    "        p = võrdle(mudel2, standard, n)\n",
    "        võrdlused2.append(p)\n",
    "        \n",
    "    plt.bar([i+1.1 for i in range(N)], height = võrdlused1, width = .2, color = \"red\", label = \"tere\")\n",
    "    \n",
    "    plt.bar([i+.9 for i in range(N)], height = võrdlused2, width = .2, color = \"blue\")\n",
    "    \n",
    "    plt.xticks([i+1 for i in range(N)])\n",
    "    plt.ylabel(\"Edukalt leitud sõnu / otsitud sõnu\")\n",
    "    plt.xlabel(\"Mitu sarnast sõna standardist võeti\")\n",
    "    plt.show()\n",
    "    \n"
   ]
  },
  {
   "cell_type": "code",
   "execution_count": 21,
   "metadata": {},
   "outputs": [
    {
     "data": {
      "image/png": "[encoded data removed]",
      "text/plain": [
       "<Figure size 432x288 with 1 Axes>"
      ]
     },
     "metadata": {
      "needs_background": "light"
     },
     "output_type": "display_data"
    }
   ],
   "source": [
    "võrdleMudeleid(cbow,sg,standard)"
   ]
  }
 ],
 "metadata": {
  "kernelspec": {
   "display_name": "Python 3",
   "language": "python",
   "name": "python3"
  },
  "language_info": {
   "codemirror_mode": {
    "name": "ipython",
    "version": 3
   },
   "file_extension": ".py",
   "mimetype": "text/x-python",
   "name": "python",
   "nbconvert_exporter": "python",
   "pygments_lexer": "ipython3",
   "version": "3.8.5"
  }
 },
 "nbformat": 4,
 "nbformat_minor": 4
}
