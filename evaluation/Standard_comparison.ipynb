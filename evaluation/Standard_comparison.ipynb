{
 "cells": [
  {
   "cell_type": "code",
   "execution_count": 3,
   "metadata": {},
   "outputs": [],
   "source": [
    "import csv, matplotlib.pyplot as plt"
   ]
  },
  {
   "cell_type": "markdown",
   "metadata": {},
   "source": [
    "# Reading the standard from csv"
   ]
  },
  {
   "cell_type": "code",
   "execution_count": 4,
   "metadata": {},
   "outputs": [],
   "source": [
    "standard = dict()\n",
    "\n",
    "#Make sure it is in the same folder\n",
    "with open(\"syno-gold.csv\",\"r\", encoding = \"UTF-8\") as f:\n",
    "    for line in f:\n",
    "        word, similar_word = line.split(\"\\t\")\n",
    "        if word not in standard:\n",
    "            standard[word] = []\n",
    "        standard[word].append(similar_word.strip())  \n",
    "        \n",
    "        "
   ]
  },
  {
   "cell_type": "code",
   "execution_count": 5,
   "metadata": {},
   "outputs": [
    {
     "name": "stdout",
     "output_type": "stream",
     "text": [
      "There are 38818 words in the standard.\n"
     ]
    },
    {
     "data": {
      "text/plain": [
       "['nõrk', 'kaitsetu', 'hädine', 'hädaline', 'väeti']"
      ]
     },
     "execution_count": 5,
     "metadata": {},
     "output_type": "execute_result"
    }
   ],
   "source": [
    "print(\"There are\",len(standard),\"words in the standard.\")\n",
    "standard[\"abitu\"][:5]"
   ]
  },
  {
   "cell_type": "markdown",
   "metadata": {},
   "source": [
    "# Reading models"
   ]
  },
  {
   "cell_type": "code",
   "execution_count": 9,
   "metadata": {},
   "outputs": [],
   "source": [
    "#Needs the location of the model .csv as an argument\n",
    "#Returns the model as a dictionary\n",
    "\n",
    "def readModel(file):\n",
    "    model = dict()\n",
    "    with open(file, \"r\", encoding = \"UTF-8\") as f:\n",
    "        for word,similar_word,score in csv.reader(f,quotechar='\"', delimiter=',', quoting=csv.QUOTE_ALL):\n",
    "            if word not in model:\n",
    "                model[word] = []\n",
    "            model[word].append(similar_word) \n",
    "    return model\n",
    "\n",
    "    "
   ]
  },
  {
   "cell_type": "code",
   "execution_count": 12,
   "metadata": {},
   "outputs": [
    {
     "name": "stdout",
     "output_type": "stream",
     "text": [
      "The model has 200000 words.\n"
     ]
    },
    {
     "data": {
      "text/plain": [
       "['jõuetu', 'kaitsetu', 'saamatu', 'mittemõistetu', 'pampersilaps']"
      ]
     },
     "execution_count": 12,
     "metadata": {},
     "output_type": "execute_result"
    }
   ],
   "source": [
    "sg_model = readModel(\"W2V_1000d_20epoch_SG_200000topN.csv\")\n",
    "print(\"The model has\",len(sg_model),\"words.\")\n",
    "sg_model[\"abitu\"][:5]"
   ]
  },
  {
   "cell_type": "markdown",
   "metadata": {},
   "source": [
    "# Comparison\n",
    "\n",
    "We are going to compare the model using the following logic\n",
    "* Pick a word from the standard\n",
    "* If that word is represented in the model, we check if the most similar word according to the standard is also a similar according to the model\n",
    "* Do this for all words and keep track of the success rate\n",
    "* Repeat this for the second most similar word and so on"
   ]
  },
  {
   "cell_type": "code",
   "execution_count": 26,
   "metadata": {},
   "outputs": [],
   "source": [
    "#Parameters\n",
    "# model, that we are comparing\n",
    "# standard, with which we are comparing\n",
    "# n - how many similar words we are going to search for\n",
    "# limit - how many similar words we are going to consider in the model\n",
    "#        for example we may not care if the most similar word is the 50th most similar according to the model\n",
    "#        default : 100 (so not very limiting)\n",
    "# returnsPercentage - We can choose whether the function returns a percentage or a tuple\n",
    "\n",
    "def compare(model,standard, n=1, limit = 100, returnsPercentage = True):\n",
    "    \n",
    "    success = 0\n",
    "    counter = 0\n",
    "    \n",
    "    for word in standard:\n",
    "        \n",
    "        if word in model:\n",
    "            i = 0\n",
    "            while i < n and i<len(standard[word]):\n",
    "                counter += 1\n",
    "                if standard[word][i] in model[word][:limit]:\n",
    "                    success += 1                \n",
    "                i+= 1\n",
    "    \n",
    "    if returnsPercentage:\n",
    "        return success/counter\n",
    "    \n",
    "    return success,counter"
   ]
  },
  {
   "cell_type": "code",
   "execution_count": 29,
   "metadata": {},
   "outputs": [],
   "source": [
    "#Visualising the model \n",
    "#Parameters\n",
    "# standard, with which we are comparing\n",
    "# model, that we are comparing\n",
    "# N - how many different similar words we are going to check\n",
    "#     default : 10\n",
    "\n",
    "def visualiseModel(standard, model, N=10):\n",
    "    comparisons = []\n",
    "    for n in range(1,N+1):\n",
    "        p = compare(model, standard, n)\n",
    "        comparisons.append(p)\n",
    "        \n",
    "    plt.bar([i+1 for i in range(N)], height = comparisons, width = .5)\n",
    "    plt.xticks([i+1 for i in range(N)])\n",
    "    plt.ylabel(\"Successful searches / words searched\")\n",
    "    plt.xlabel(\"Nr of similar words searched per word\")\n",
    "    plt.show()\n",
    "    "
   ]
  },
  {
   "cell_type": "code",
   "execution_count": 30,
   "metadata": {
    "scrolled": true
   },
   "outputs": [
    {
     "data": {
      "image/png": "[encoded data removed]",
      "text/plain": [
       "<Figure size 432x288 with 1 Axes>"
      ]
     },
     "metadata": {
      "needs_background": "light"
     },
     "output_type": "display_data"
    }
   ],
   "source": [
    "visualiseModel(standard, sg_model)\n",
    "    "
   ]
  },
  {
   "cell_type": "code",
   "execution_count": 31,
   "metadata": {},
   "outputs": [],
   "source": [
    "cbow = readModel(\"W2V_1000d_20epoch_CBOW_200000topN.csv\")\n",
    "sg   = readModel(\"W2V_1000d_20epoch_SG_200000topN.csv\")"
   ]
  },
  {
   "cell_type": "code",
   "execution_count": 34,
   "metadata": {},
   "outputs": [],
   "source": [
    "def compareModels(model1,model2, standard, N = 10):\n",
    "    \n",
    "    comparisons1 = []\n",
    "    comparisons2 = []\n",
    "    for n in range(1,N+1):\n",
    "        p = compare(model1, standard, n)\n",
    "        comparisons1.append(p)\n",
    "        p = compare(model2, standard, n)\n",
    "        comparisons2.append(p)\n",
    "        \n",
    "    plt.bar([i+1.1 for i in range(N)], height = comparisons1, width = .2, color = \"red\")\n",
    "    \n",
    "    plt.bar([i+.9 for i in range(N)], height = comparisons2, width = .2, color = \"blue\")\n",
    "    \n",
    "    plt.xticks([i+1 for i in range(N)])\n",
    "    plt.ylabel(\"Successful searches / words searched\")\n",
    "    plt.xlabel(\"Nr of similar words searched per word\")\n",
    "    plt.show()\n",
    "    \n"
   ]
  },
  {
   "cell_type": "code",
   "execution_count": 35,
   "metadata": {},
   "outputs": [
    {
     "data": {
      "image/png": "[encoded data removed]",
      "text/plain": [
       "<Figure size 432x288 with 1 Axes>"
      ]
     },
     "metadata": {
      "needs_background": "light"
     },
     "output_type": "display_data"
    }
   ],
   "source": [
    "compareModels(cbow,sg,standard)"
   ]
  }
 ],
 "metadata": {
  "kernelspec": {
   "display_name": "Python 3",
   "language": "python",
   "name": "python3"
  },
  "language_info": {
   "codemirror_mode": {
    "name": "ipython",
    "version": 3
   },
   "file_extension": ".py",
   "mimetype": "text/x-python",
   "name": "python",
   "nbconvert_exporter": "python",
   "pygments_lexer": "ipython3",
   "version": "3.8.5"
  }
 },
 "nbformat": 4,
 "nbformat_minor": 4
}
